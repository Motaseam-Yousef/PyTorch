{
  "cells": [
    {
      "cell_type": "markdown",
      "metadata": {
        "collapsed": true,
        "id": "YMqrjmrbD36U"
      },
      "source": [
        "# Neural Network Exercises\n",
        "For these exercises we'll perform a binary classification on the Census Income dataset available from the <a href = 'http://archive.ics.uci.edu/ml/datasets/Adult'>UC Irvine Machine Learning Repository</a><br>\n",
        "The goal is to determine if an individual earns more than $50K based on a set of continuous and categorical variables.\n",
        "\n",
        "<div class=\"alert alert-danger\" style=\"margin: 10px\"><strong>IMPORTANT NOTE!</strong> Make sure you don't run the cells directly above the example output shown, <br>otherwise you will end up writing over the example output!</div>"
      ]
    },
    {
      "cell_type": "markdown",
      "metadata": {
        "id": "SGM72uiBD36X"
      },
      "source": [
        "## Census Income Dataset\n",
        "For this exercises we're using the Census Income dataset available from the <a href='http://archive.ics.uci.edu/ml/datasets/Adult'>UC Irvine Machine Learning Repository</a>.\n",
        "\n",
        "The full dataset has 48,842 entries. For this exercise we have reduced the number of records, fields and field entries, and have removed entries with null values. The file <strong>income.csv</strong> has\t30,000 entries\n",
        "\n",
        "Each entry contains the following information about an individual:\n",
        "* <strong>age</strong>: the age of an individual as an integer from 18 to 90 (continuous)\n",
        "* <strong>sex</strong>: Male or Female (categorical)\n",
        "* <strong>education</strong>: represents the highest level of education achieved by an individual (categorical)\n",
        "* <strong>education_num</strong>: represents education as an integer from 3 to 16 (categorical)\n",
        "<div><table style=\"display: inline-block\">\n",
        "<tr><td>3</td><td>5th-6th</td><td>8</td><td>12th</td><td>13</td><td>Bachelors</td></tr>\n",
        "<tr><td>4</td><td>7th-8th</td><td>9</td><td>HS-grad</td><td>14</td><td>Masters</td></tr>\n",
        "<tr><td>5</td><td>9th</td><td>10</td><td>Some-college</td><td>15</td><td>Prof-school</td></tr>\n",
        "<tr><td>6</td><td>10th</td><td>11</td><td>Assoc-voc</td><td>16</td><td>Doctorate</td></tr>\n",
        "<tr><td>7</td><td>11th</td><td>12</td><td>Assoc-acdm</td></tr>\n",
        "</table></div>\n",
        "* <strong>marital-status</strong>: marital status of an individual (categorical)\n",
        "<div><table style=\"display: inline-block\">\n",
        "<tr><td>Married</td><td>Divorced</td><td>Married-spouse-absent</td></tr>\n",
        "<tr><td>Separated</td><td>Widowed</td><td>Never-married</td></tr>\n",
        "</table></div>\n",
        "* <strong>workclass</strong>: a general term to represent the employment status of an individual (categorical)\n",
        "<div><table style=\"display: inline-block\">\n",
        "<tr><td>Local-gov</td><td>Private</td></tr>\n",
        "<tr><td>State-gov</td><td>Self-emp</td></tr>\n",
        "<tr><td>Federal-gov</td></tr>\n",
        "</table></div>\n",
        "* <strong>occupation</strong>: the general type of occupation of an individual (categorical)\n",
        "<div><table style=\"display: inline-block\">\n",
        "<tr><td>Adm-clerical</td><td>Handlers-cleaners</td><td>Protective-serv</td></tr>\n",
        "<tr><td>Craft-repair</td><td>Machine-op-inspct</td><td>Sales</td></tr>\n",
        "<tr><td>Exec-managerial</td><td>Other-service</td><td>Tech-support</td></tr>\n",
        "<tr><td>Farming-fishing</td><td>Prof-specialty</td><td>Transport-moving</td></tr>\n",
        "</table></div>\n",
        "* <strong>hours-per-week</strong>: the hours an individual has reported to work per week as an integer from 20 to 90 (continuous)\n",
        "* <strong>income</strong>: whether or not an individual makes more than \\\\$50,000 annually (label)\n",
        "* <strong>label</strong>: income represented as an integer (0: <=\\\\$50K, 1: >\\\\$50K) (optional label)"
      ]
    },
    {
      "cell_type": "markdown",
      "metadata": {
        "id": "Zxx51ZunD36a"
      },
      "source": [
        "## Perform standard imports\n",
        "Run the cell below to load the libraries needed for this exercise and the Census Income dataset."
      ]
    },
    {
      "cell_type": "code",
      "execution_count": 2,
      "metadata": {
        "id": "JQkubFHcD36b"
      },
      "outputs": [],
      "source": [
        "import torch\n",
        "import torch.nn as nn\n",
        "\n",
        "import numpy as np\n",
        "import pandas as pd\n",
        "import matplotlib.pyplot as plt\n",
        "from sklearn.utils import shuffle\n",
        "%matplotlib inline\n",
        "\n",
        "df = pd.read_csv('/content/income.csv')"
      ]
    },
    {
      "cell_type": "code",
      "execution_count": 3,
      "metadata": {
        "scrolled": true,
        "colab": {
          "base_uri": "https://localhost:8080/",
          "height": 224
        },
        "id": "BvRR8cEkD36e",
        "outputId": "4893acff-e9a2-4e48-c9fa-13b90e8f2cda"
      },
      "outputs": [
        {
          "output_type": "stream",
          "name": "stdout",
          "text": [
            "30000\n"
          ]
        },
        {
          "output_type": "execute_result",
          "data": {
            "text/plain": [
              "   age     sex    education  education-num marital-status    workclass  \\\n",
              "0   27    Male      HS-grad              9  Never-married      Private   \n",
              "1   47    Male      Masters             14        Married    Local-gov   \n",
              "2   59    Male      HS-grad              9       Divorced     Self-emp   \n",
              "3   38  Female  Prof-school             15  Never-married  Federal-gov   \n",
              "4   64  Female         11th              7        Widowed      Private   \n",
              "\n",
              "        occupation  hours-per-week income  label  \n",
              "0     Craft-repair              40  <=50K      0  \n",
              "1  Exec-managerial              50   >50K      1  \n",
              "2   Prof-specialty              20  <=50K      0  \n",
              "3   Prof-specialty              57   >50K      1  \n",
              "4  Farming-fishing              40  <=50K      0  "
            ],
            "text/html": [
              "\n",
              "  <div id=\"df-35470b11-e873-4a32-b710-bc33aaeea19f\">\n",
              "    <div class=\"colab-df-container\">\n",
              "      <div>\n",
              "<style scoped>\n",
              "    .dataframe tbody tr th:only-of-type {\n",
              "        vertical-align: middle;\n",
              "    }\n",
              "\n",
              "    .dataframe tbody tr th {\n",
              "        vertical-align: top;\n",
              "    }\n",
              "\n",
              "    .dataframe thead th {\n",
              "        text-align: right;\n",
              "    }\n",
              "</style>\n",
              "<table border=\"1\" class=\"dataframe\">\n",
              "  <thead>\n",
              "    <tr style=\"text-align: right;\">\n",
              "      <th></th>\n",
              "      <th>age</th>\n",
              "      <th>sex</th>\n",
              "      <th>education</th>\n",
              "      <th>education-num</th>\n",
              "      <th>marital-status</th>\n",
              "      <th>workclass</th>\n",
              "      <th>occupation</th>\n",
              "      <th>hours-per-week</th>\n",
              "      <th>income</th>\n",
              "      <th>label</th>\n",
              "    </tr>\n",
              "  </thead>\n",
              "  <tbody>\n",
              "    <tr>\n",
              "      <th>0</th>\n",
              "      <td>27</td>\n",
              "      <td>Male</td>\n",
              "      <td>HS-grad</td>\n",
              "      <td>9</td>\n",
              "      <td>Never-married</td>\n",
              "      <td>Private</td>\n",
              "      <td>Craft-repair</td>\n",
              "      <td>40</td>\n",
              "      <td>&lt;=50K</td>\n",
              "      <td>0</td>\n",
              "    </tr>\n",
              "    <tr>\n",
              "      <th>1</th>\n",
              "      <td>47</td>\n",
              "      <td>Male</td>\n",
              "      <td>Masters</td>\n",
              "      <td>14</td>\n",
              "      <td>Married</td>\n",
              "      <td>Local-gov</td>\n",
              "      <td>Exec-managerial</td>\n",
              "      <td>50</td>\n",
              "      <td>&gt;50K</td>\n",
              "      <td>1</td>\n",
              "    </tr>\n",
              "    <tr>\n",
              "      <th>2</th>\n",
              "      <td>59</td>\n",
              "      <td>Male</td>\n",
              "      <td>HS-grad</td>\n",
              "      <td>9</td>\n",
              "      <td>Divorced</td>\n",
              "      <td>Self-emp</td>\n",
              "      <td>Prof-specialty</td>\n",
              "      <td>20</td>\n",
              "      <td>&lt;=50K</td>\n",
              "      <td>0</td>\n",
              "    </tr>\n",
              "    <tr>\n",
              "      <th>3</th>\n",
              "      <td>38</td>\n",
              "      <td>Female</td>\n",
              "      <td>Prof-school</td>\n",
              "      <td>15</td>\n",
              "      <td>Never-married</td>\n",
              "      <td>Federal-gov</td>\n",
              "      <td>Prof-specialty</td>\n",
              "      <td>57</td>\n",
              "      <td>&gt;50K</td>\n",
              "      <td>1</td>\n",
              "    </tr>\n",
              "    <tr>\n",
              "      <th>4</th>\n",
              "      <td>64</td>\n",
              "      <td>Female</td>\n",
              "      <td>11th</td>\n",
              "      <td>7</td>\n",
              "      <td>Widowed</td>\n",
              "      <td>Private</td>\n",
              "      <td>Farming-fishing</td>\n",
              "      <td>40</td>\n",
              "      <td>&lt;=50K</td>\n",
              "      <td>0</td>\n",
              "    </tr>\n",
              "  </tbody>\n",
              "</table>\n",
              "</div>\n",
              "      <button class=\"colab-df-convert\" onclick=\"convertToInteractive('df-35470b11-e873-4a32-b710-bc33aaeea19f')\"\n",
              "              title=\"Convert this dataframe to an interactive table.\"\n",
              "              style=\"display:none;\">\n",
              "        \n",
              "  <svg xmlns=\"http://www.w3.org/2000/svg\" height=\"24px\"viewBox=\"0 0 24 24\"\n",
              "       width=\"24px\">\n",
              "    <path d=\"M0 0h24v24H0V0z\" fill=\"none\"/>\n",
              "    <path d=\"M18.56 5.44l.94 2.06.94-2.06 2.06-.94-2.06-.94-.94-2.06-.94 2.06-2.06.94zm-11 1L8.5 8.5l.94-2.06 2.06-.94-2.06-.94L8.5 2.5l-.94 2.06-2.06.94zm10 10l.94 2.06.94-2.06 2.06-.94-2.06-.94-.94-2.06-.94 2.06-2.06.94z\"/><path d=\"M17.41 7.96l-1.37-1.37c-.4-.4-.92-.59-1.43-.59-.52 0-1.04.2-1.43.59L10.3 9.45l-7.72 7.72c-.78.78-.78 2.05 0 2.83L4 21.41c.39.39.9.59 1.41.59.51 0 1.02-.2 1.41-.59l7.78-7.78 2.81-2.81c.8-.78.8-2.07 0-2.86zM5.41 20L4 18.59l7.72-7.72 1.47 1.35L5.41 20z\"/>\n",
              "  </svg>\n",
              "      </button>\n",
              "      \n",
              "  <style>\n",
              "    .colab-df-container {\n",
              "      display:flex;\n",
              "      flex-wrap:wrap;\n",
              "      gap: 12px;\n",
              "    }\n",
              "\n",
              "    .colab-df-convert {\n",
              "      background-color: #E8F0FE;\n",
              "      border: none;\n",
              "      border-radius: 50%;\n",
              "      cursor: pointer;\n",
              "      display: none;\n",
              "      fill: #1967D2;\n",
              "      height: 32px;\n",
              "      padding: 0 0 0 0;\n",
              "      width: 32px;\n",
              "    }\n",
              "\n",
              "    .colab-df-convert:hover {\n",
              "      background-color: #E2EBFA;\n",
              "      box-shadow: 0px 1px 2px rgba(60, 64, 67, 0.3), 0px 1px 3px 1px rgba(60, 64, 67, 0.15);\n",
              "      fill: #174EA6;\n",
              "    }\n",
              "\n",
              "    [theme=dark] .colab-df-convert {\n",
              "      background-color: #3B4455;\n",
              "      fill: #D2E3FC;\n",
              "    }\n",
              "\n",
              "    [theme=dark] .colab-df-convert:hover {\n",
              "      background-color: #434B5C;\n",
              "      box-shadow: 0px 1px 3px 1px rgba(0, 0, 0, 0.15);\n",
              "      filter: drop-shadow(0px 1px 2px rgba(0, 0, 0, 0.3));\n",
              "      fill: #FFFFFF;\n",
              "    }\n",
              "  </style>\n",
              "\n",
              "      <script>\n",
              "        const buttonEl =\n",
              "          document.querySelector('#df-35470b11-e873-4a32-b710-bc33aaeea19f button.colab-df-convert');\n",
              "        buttonEl.style.display =\n",
              "          google.colab.kernel.accessAllowed ? 'block' : 'none';\n",
              "\n",
              "        async function convertToInteractive(key) {\n",
              "          const element = document.querySelector('#df-35470b11-e873-4a32-b710-bc33aaeea19f');\n",
              "          const dataTable =\n",
              "            await google.colab.kernel.invokeFunction('convertToInteractive',\n",
              "                                                     [key], {});\n",
              "          if (!dataTable) return;\n",
              "\n",
              "          const docLinkHtml = 'Like what you see? Visit the ' +\n",
              "            '<a target=\"_blank\" href=https://colab.research.google.com/notebooks/data_table.ipynb>data table notebook</a>'\n",
              "            + ' to learn more about interactive tables.';\n",
              "          element.innerHTML = '';\n",
              "          dataTable['output_type'] = 'display_data';\n",
              "          await google.colab.output.renderOutput(dataTable, element);\n",
              "          const docLink = document.createElement('div');\n",
              "          docLink.innerHTML = docLinkHtml;\n",
              "          element.appendChild(docLink);\n",
              "        }\n",
              "      </script>\n",
              "    </div>\n",
              "  </div>\n",
              "  "
            ]
          },
          "metadata": {},
          "execution_count": 3
        }
      ],
      "source": [
        "print(len(df))\n",
        "df.head()"
      ]
    },
    {
      "cell_type": "code",
      "execution_count": 4,
      "metadata": {
        "colab": {
          "base_uri": "https://localhost:8080/"
        },
        "id": "n_nFZiqeD36h",
        "outputId": "70027eda-9f2d-4887-8141-abf477643c10"
      },
      "outputs": [
        {
          "output_type": "execute_result",
          "data": {
            "text/plain": [
              "0    21700\n",
              "1     8300\n",
              "Name: label, dtype: int64"
            ]
          },
          "metadata": {},
          "execution_count": 4
        }
      ],
      "source": [
        "df['label'].value_counts()"
      ]
    },
    {
      "cell_type": "code",
      "source": [
        "# There a Bias in the data for 0's"
      ],
      "metadata": {
        "id": "DSscueR7H6S2"
      },
      "execution_count": null,
      "outputs": []
    },
    {
      "cell_type": "markdown",
      "metadata": {
        "id": "I6ep8GZbD36j"
      },
      "source": [
        "### 1. Separate continuous, categorical and label column names\n",
        "You should find that there are 5 categorical columns, 2 continuous columns and 1 label.<br>\n",
        "In the case of <em>education</em> and <em>education-num</em> it doesn't matter which column you use. For the label column, be sure to use <em>label</em> and not <em>income</em>.<br>\n",
        "Assign the variable names \"cat_cols\", \"cont_cols\" and \"y_col\" to the lists of names."
      ]
    },
    {
      "cell_type": "code",
      "source": [
        "df.info()"
      ],
      "metadata": {
        "colab": {
          "base_uri": "https://localhost:8080/"
        },
        "id": "LoUzLUqFIAkO",
        "outputId": "6d90690e-05a2-4c2f-f579-cad7e2785a8e"
      },
      "execution_count": 6,
      "outputs": [
        {
          "output_type": "stream",
          "name": "stdout",
          "text": [
            "<class 'pandas.core.frame.DataFrame'>\n",
            "RangeIndex: 30000 entries, 0 to 29999\n",
            "Data columns (total 10 columns):\n",
            " #   Column          Non-Null Count  Dtype \n",
            "---  ------          --------------  ----- \n",
            " 0   age             30000 non-null  int64 \n",
            " 1   sex             30000 non-null  object\n",
            " 2   education       30000 non-null  object\n",
            " 3   education-num   30000 non-null  int64 \n",
            " 4   marital-status  30000 non-null  object\n",
            " 5   workclass       30000 non-null  object\n",
            " 6   occupation      30000 non-null  object\n",
            " 7   hours-per-week  30000 non-null  int64 \n",
            " 8   income          30000 non-null  object\n",
            " 9   label           30000 non-null  int64 \n",
            "dtypes: int64(4), object(6)\n",
            "memory usage: 2.3+ MB\n"
          ]
        }
      ]
    },
    {
      "cell_type": "code",
      "execution_count": 5,
      "metadata": {
        "colab": {
          "base_uri": "https://localhost:8080/"
        },
        "id": "mVuiyeu3D36k",
        "outputId": "a65205a5-d0e1-4853-eac7-30ebe0a6bc50"
      },
      "outputs": [
        {
          "output_type": "execute_result",
          "data": {
            "text/plain": [
              "Index(['age', 'sex', 'education', 'education-num', 'marital-status',\n",
              "       'workclass', 'occupation', 'hours-per-week', 'income', 'label'],\n",
              "      dtype='object')"
            ]
          },
          "metadata": {},
          "execution_count": 5
        }
      ],
      "source": [
        "df.columns"
      ]
    },
    {
      "cell_type": "code",
      "execution_count": 11,
      "metadata": {
        "colab": {
          "base_uri": "https://localhost:8080/"
        },
        "id": "wSNjHi94D36l",
        "outputId": "f87bbc44-c5a4-4df3-9c28-d057856d4f3c"
      },
      "outputs": [
        {
          "output_type": "stream",
          "name": "stdout",
          "text": [
            "cat_cols  has 5 columns\n",
            "cont_cols has 2 columns\n",
            "y_col     has 1 column\n"
          ]
        }
      ],
      "source": [
        "# CODE HERE\n",
        "\n",
        "cat_cols=['sex', 'education', 'marital-status', 'workclass', 'occupation'] \n",
        "cont_cols=['age','hours-per-week']\n",
        "y_col=['label']\n",
        "\n",
        "# RUN THIS CODE TO COMPARE RESULTS:\n",
        "print(f'cat_cols  has {len(cat_cols)} columns')\n",
        "print(f'cont_cols has {len(cont_cols)} columns')\n",
        "print(f'y_col     has {len(y_col)} column')"
      ]
    },
    {
      "cell_type": "markdown",
      "metadata": {
        "id": "_OeAyYuUD36o"
      },
      "source": [
        "### 2. Convert categorical columns to category dtypes"
      ]
    },
    {
      "cell_type": "code",
      "execution_count": 12,
      "metadata": {
        "colab": {
          "base_uri": "https://localhost:8080/"
        },
        "id": "nZ85xi8WD36p",
        "outputId": "8ecf6572-78d9-485d-b96e-f29fc1f62fec"
      },
      "outputs": [
        {
          "output_type": "execute_result",
          "data": {
            "text/plain": [
              "age                  int64\n",
              "sex               category\n",
              "education         category\n",
              "education-num        int64\n",
              "marital-status    category\n",
              "workclass         category\n",
              "occupation        category\n",
              "hours-per-week       int64\n",
              "income            category\n",
              "label                int64\n",
              "dtype: object"
            ]
          },
          "metadata": {},
          "execution_count": 12
        }
      ],
      "source": [
        "# CODE HERE\n",
        "for cat in cat_cols:\n",
        "    df[cat] = df[cat].astype('category')\n",
        "\n",
        "# check d type\n",
        "df.dtypes\n"
      ]
    },
    {
      "cell_type": "markdown",
      "metadata": {
        "id": "YxNWZp8jD36s"
      },
      "source": [
        "### 3. Set the embedding sizes\n",
        "Create a variable \"cat_szs\" to hold the number of categories in each variable.<br>\n",
        "Then create a variable \"emb_szs\" to hold the list of (category size, embedding size) tuples."
      ]
    },
    {
      "cell_type": "code",
      "execution_count": 13,
      "metadata": {
        "colab": {
          "base_uri": "https://localhost:8080/"
        },
        "id": "Wp1KKZgeD36s",
        "outputId": "eaafb05f-7c6f-4301-93f7-1d408035b700"
      },
      "outputs": [
        {
          "output_type": "execute_result",
          "data": {
            "text/plain": [
              "[(2, 1), (14, 7), (6, 3), (5, 3), (12, 6)]"
            ]
          },
          "metadata": {},
          "execution_count": 13
        }
      ],
      "source": [
        "# CODE HERE\n",
        "cat_szs = [len(df[col].cat.categories) for col in cat_cols]\n",
        "emb_szs = [(size, min(50, (size+1)//2)) for size in cat_szs]\n",
        "emb_szs"
      ]
    },
    {
      "cell_type": "markdown",
      "metadata": {
        "id": "lrY9xRAAD36u"
      },
      "source": [
        "### 4. Create an array of categorical values\n",
        "Create a NumPy array called \"cats\" that contains a stack of each categorical column <tt>.cat.codes.values</tt><br>\n",
        "Note: your output may contain different values. Ours came after performing the shuffle step shown above."
      ]
    },
    {
      "cell_type": "code",
      "execution_count": 14,
      "metadata": {
        "colab": {
          "base_uri": "https://localhost:8080/"
        },
        "id": "lBzRTnJyD36v",
        "outputId": "eaca206a-9da8-471e-bcc8-cbe790e8eb98"
      },
      "outputs": [
        {
          "output_type": "execute_result",
          "data": {
            "text/plain": [
              "array([[ 1, 10,  3,  2,  1],\n",
              "       [ 1, 11,  1,  1,  2],\n",
              "       [ 1, 10,  0,  3,  7],\n",
              "       [ 0, 12,  3,  0,  7],\n",
              "       [ 0,  1,  5,  2,  3]], dtype=int8)"
            ]
          },
          "metadata": {},
          "execution_count": 14
        }
      ],
      "source": [
        "# CODE HERE\n",
        "# 'sex', 'education', 'marital-status', 'workclass', 'occupation'\n",
        "sx=df['sex'].cat.codes.values \n",
        "edu=df['education'].cat.codes.values \n",
        "ms=df['marital-status'].cat.codes.values \n",
        "wc=df['workclass'].cat.codes.values \n",
        "o=df['occupation'].cat.codes.values \n",
        "\n",
        "cats = np.stack([sx,edu,ms,wc,o], axis=1)\n",
        "\n",
        "\n",
        "# RUN THIS CODE TO COMPARE RESULTS\n",
        "cats[:5]"
      ]
    },
    {
      "cell_type": "markdown",
      "metadata": {
        "id": "mOKqyMOwD36w"
      },
      "source": [
        "### 5. Convert \"cats\" to a tensor\n",
        "Convert the \"cats\" NumPy array to a tensor of dtype <tt>int64</tt>"
      ]
    },
    {
      "cell_type": "code",
      "execution_count": 15,
      "metadata": {
        "id": "r7hKyMuhD36x"
      },
      "outputs": [],
      "source": [
        "# CODE HERE\n",
        "cats = torch.tensor(cats, dtype=torch.int64) "
      ]
    },
    {
      "cell_type": "markdown",
      "metadata": {
        "id": "g5NHdKUDD36y"
      },
      "source": [
        "### 6. Create an array of continuous values\n",
        "Create a NumPy array called \"conts\" that contains a stack of each continuous column.<br>\n",
        "Note: your output may contain different values. Ours came after performing the shuffle step shown above."
      ]
    },
    {
      "cell_type": "code",
      "execution_count": 17,
      "metadata": {
        "colab": {
          "base_uri": "https://localhost:8080/"
        },
        "id": "q1ZNv456D36z",
        "outputId": "126160cc-8aed-4e4c-8b4f-c030f92a5be2"
      },
      "outputs": [
        {
          "output_type": "execute_result",
          "data": {
            "text/plain": [
              "array([[27, 40],\n",
              "       [47, 50],\n",
              "       [59, 20],\n",
              "       [38, 57],\n",
              "       [64, 40]])"
            ]
          },
          "metadata": {},
          "execution_count": 17
        }
      ],
      "source": [
        "# CODE HERE\n",
        "conts = np.stack([df[col].values for col in cont_cols], 1)\n",
        "\n",
        "# RUN THIS CODE TO COMPARE RESULTS\n",
        "conts[:5]"
      ]
    },
    {
      "cell_type": "markdown",
      "metadata": {
        "id": "rRbfgG30D360"
      },
      "source": [
        "### 7. Convert \"conts\" to a tensor\n",
        "Convert the \"conts\" NumPy array to a tensor of dtype <tt>float32</tt>"
      ]
    },
    {
      "cell_type": "code",
      "execution_count": 18,
      "metadata": {
        "colab": {
          "base_uri": "https://localhost:8080/"
        },
        "id": "b-bHdcEMD360",
        "outputId": "26614d50-946f-45c5-c785-d9fe25007301"
      },
      "outputs": [
        {
          "output_type": "execute_result",
          "data": {
            "text/plain": [
              "torch.float32"
            ]
          },
          "metadata": {},
          "execution_count": 18
        }
      ],
      "source": [
        "# CODE HERE\n",
        "conts = torch.tensor(conts, dtype=torch.float)\n",
        "\n",
        "# RUN THIS CODE TO COMPARE RESULTS\n",
        "conts.dtype"
      ]
    },
    {
      "cell_type": "markdown",
      "metadata": {
        "id": "oEZGkbXBD361"
      },
      "source": [
        "### 8. Create a label tensor\n",
        "Create a tensor called \"y\" from the values in the label column. Be sure to flatten the tensor so that it can be passed into the CE Loss function."
      ]
    },
    {
      "cell_type": "code",
      "execution_count": 45,
      "metadata": {
        "colab": {
          "base_uri": "https://localhost:8080/"
        },
        "id": "9qf3f_wuD362",
        "outputId": "fa727823-e101-4b08-871d-ba4d043379d4"
      },
      "outputs": [
        {
          "output_type": "execute_result",
          "data": {
            "text/plain": [
              "tensor([0, 1, 0,  ..., 1, 0, 1])"
            ]
          },
          "metadata": {},
          "execution_count": 45
        }
      ],
      "source": [
        "# CODE HERE \n",
        "y = torch.tensor(df[y_col].values).flatten()\n",
        "y"
      ]
    },
    {
      "cell_type": "markdown",
      "metadata": {
        "id": "vd5Sn3bpD363"
      },
      "source": [
        "### 9. Create train and test sets from <tt>cats</tt>, <tt>conts</tt>, and <tt>y</tt>\n",
        "We use the entire batch of 30,000 records, but a smaller batch size will save time during training.<br>\n",
        "We used a test size of 5,000 records, but you can choose another fixed value or a percentage of the batch size.<br>\n",
        "Make sure that your test records remain separate from your training records, without overlap.<br>\n",
        "To make coding slices easier, we recommend assigning batch and test sizes to simple variables like \"b\" and \"t\"."
      ]
    },
    {
      "cell_type": "code",
      "source": [
        "len(y)"
      ],
      "metadata": {
        "colab": {
          "base_uri": "https://localhost:8080/"
        },
        "id": "-n0ZdIzSLkw9",
        "outputId": "91fe17a5-2f3b-4fe1-8bd2-6d0573da6845"
      },
      "execution_count": 46,
      "outputs": [
        {
          "output_type": "execute_result",
          "data": {
            "text/plain": [
              "30000"
            ]
          },
          "metadata": {},
          "execution_count": 46
        }
      ]
    },
    {
      "cell_type": "code",
      "execution_count": 47,
      "metadata": {
        "id": "Mxfp4jZfD363"
      },
      "outputs": [],
      "source": [
        "# CODE HERE\n",
        "b = 30000 # suggested batch size\n",
        "t = 5000  # suggested test size\n",
        "\n",
        "cat_train = cats[:b-t]\n",
        "cat_test  = cats[b-t:b]\n",
        "con_train = conts[:b-t]\n",
        "con_test  = conts[b-t:b]\n",
        "y_train   = y[:b-t]\n",
        "y_test    = y[b-t:b]\n"
      ]
    },
    {
      "cell_type": "markdown",
      "metadata": {
        "id": "uPOSohMiD364"
      },
      "source": [
        "### Define the model class\n",
        "Run the cell below to define the TabularModel model class we've used before."
      ]
    },
    {
      "cell_type": "code",
      "execution_count": 49,
      "metadata": {
        "id": "35hFo5l-D365"
      },
      "outputs": [],
      "source": [
        "class TabularModel(nn.Module):\n",
        "\n",
        "    def __init__(self, emb_szs, n_cont, out_sz, layers, p=0.5):\n",
        "        # Call the parent __init__\n",
        "        super().__init__()\n",
        "        \n",
        "        # Set up the embedding, dropout, and batch normalization layer attributes\n",
        "        self.embeds = nn.ModuleList([nn.Embedding(ni, nf) for ni,nf in emb_szs])\n",
        "        self.emb_drop = nn.Dropout(p)\n",
        "        self.bn_cont = nn.BatchNorm1d(n_cont)\n",
        "        \n",
        "        # Assign a variable to hold a list of layers\n",
        "        layerlist = []\n",
        "        \n",
        "        # Assign a variable to store the number of embedding and continuous layers\n",
        "        n_emb = sum((nf for ni,nf in emb_szs))\n",
        "        n_in = n_emb + n_cont\n",
        "        \n",
        "        # Iterate through the passed-in \"layers\" parameter (ie, [200,100]) to build a list of layers\n",
        "        for i in layers:\n",
        "            layerlist.append(nn.Linear(n_in,i)) \n",
        "            layerlist.append(nn.ReLU(inplace=True))\n",
        "            layerlist.append(nn.BatchNorm1d(i))\n",
        "            layerlist.append(nn.Dropout(p))\n",
        "            n_in = i\n",
        "        layerlist.append(nn.Linear(layers[-1],out_sz))\n",
        "        \n",
        "        # Convert the list of layers into an attribute\n",
        "        self.layers = nn.Sequential(*layerlist)\n",
        "    \n",
        "    def forward(self, x_cat, x_cont):\n",
        "        # Extract embedding values from the incoming categorical data\n",
        "        embeddings = []\n",
        "        for i,e in enumerate(self.embeds):\n",
        "            embeddings.append(e(x_cat[:,i]))\n",
        "        x = torch.cat(embeddings, 1)\n",
        "        # Perform an initial dropout on the embeddings\n",
        "        x = self.emb_drop(x)\n",
        "        \n",
        "        # Normalize the incoming continuous data\n",
        "        x_cont = self.bn_cont(x_cont)\n",
        "        x = torch.cat([x, x_cont], 1)\n",
        "        \n",
        "        # Set up model layers\n",
        "        x = self.layers(x)\n",
        "        return x"
      ]
    },
    {
      "cell_type": "markdown",
      "metadata": {
        "id": "sn-Br0jMD366"
      },
      "source": [
        "### 10. Set the random seed\n",
        "To obtain results that can be recreated, set a torch manual_seed (we used 33)."
      ]
    },
    {
      "cell_type": "code",
      "execution_count": 50,
      "metadata": {
        "colab": {
          "base_uri": "https://localhost:8080/"
        },
        "id": "31-ktK0FD366",
        "outputId": "13e74e7c-3beb-49bc-8d02-407b11a06264"
      },
      "outputs": [
        {
          "output_type": "execute_result",
          "data": {
            "text/plain": [
              "<torch._C.Generator at 0x7f076af0e790>"
            ]
          },
          "metadata": {},
          "execution_count": 50
        }
      ],
      "source": [
        "# CODE HERE\n",
        "torch.manual_seed(33)"
      ]
    },
    {
      "cell_type": "markdown",
      "metadata": {
        "id": "DZg4upVhD367"
      },
      "source": [
        "### 11. Create a TabularModel instance\n",
        "Create an instance called \"model\" with one hidden layer containing 50 neurons and a dropout layer p-value of 0.4"
      ]
    },
    {
      "cell_type": "code",
      "execution_count": 51,
      "metadata": {
        "colab": {
          "base_uri": "https://localhost:8080/"
        },
        "id": "9lGHmQljD368",
        "outputId": "f70de27e-f623-45f6-82e9-cdaddf1c6c1c"
      },
      "outputs": [
        {
          "output_type": "execute_result",
          "data": {
            "text/plain": [
              "TabularModel(\n",
              "  (embeds): ModuleList(\n",
              "    (0): Embedding(2, 1)\n",
              "    (1): Embedding(14, 7)\n",
              "    (2): Embedding(6, 3)\n",
              "    (3): Embedding(5, 3)\n",
              "    (4): Embedding(12, 6)\n",
              "  )\n",
              "  (emb_drop): Dropout(p=0.4, inplace=False)\n",
              "  (bn_cont): BatchNorm1d(2, eps=1e-05, momentum=0.1, affine=True, track_running_stats=True)\n",
              "  (layers): Sequential(\n",
              "    (0): Linear(in_features=22, out_features=50, bias=True)\n",
              "    (1): ReLU(inplace=True)\n",
              "    (2): BatchNorm1d(50, eps=1e-05, momentum=0.1, affine=True, track_running_stats=True)\n",
              "    (3): Dropout(p=0.4, inplace=False)\n",
              "    (4): Linear(in_features=50, out_features=2, bias=True)\n",
              "  )\n",
              ")"
            ]
          },
          "metadata": {},
          "execution_count": 51
        }
      ],
      "source": [
        "# CODE HERE\n",
        "model=TabularModel(emb_szs, conts.shape[1], 2, [50], p=0.4)\n",
        "\n",
        "# RUN THIS CODE TO COMPARE RESULTS\n",
        "model"
      ]
    },
    {
      "cell_type": "markdown",
      "metadata": {
        "id": "v25KwBoND369"
      },
      "source": [
        "### 12. Define the loss and optimization functions\n",
        "Create a loss function called \"criterion\" using CrossEntropyLoss<br>\n",
        "Create an optimization function called \"optimizer\" using Adam, with a learning rate of 0.001"
      ]
    },
    {
      "cell_type": "code",
      "execution_count": 52,
      "metadata": {
        "id": "I69USSI3D369"
      },
      "outputs": [],
      "source": [
        "# CODE HERE\n",
        "\n",
        "criterion = nn.CrossEntropyLoss()\n",
        "optimizer = torch.optim.Adam(model.parameters(), lr=0.001)\n"
      ]
    },
    {
      "cell_type": "markdown",
      "metadata": {
        "id": "zYKYyIDBD36-"
      },
      "source": [
        "### Train the model\n",
        "Run the cell below to train the model through 300 epochs. Remember, results may vary!<br>\n",
        "After completing the exercises, feel free to come back to this section and experiment with different parameters."
      ]
    },
    {
      "cell_type": "code",
      "execution_count": 53,
      "metadata": {
        "colab": {
          "base_uri": "https://localhost:8080/"
        },
        "id": "5fLpFgygD36-",
        "outputId": "ff5c002d-fb85-42d9-a0fa-39ac9b9f2126"
      },
      "outputs": [
        {
          "output_type": "stream",
          "name": "stdout",
          "text": [
            "epoch:   1  loss: 0.81226647\n",
            "epoch:  26  loss: 0.59122038\n",
            "epoch:  51  loss: 0.51452094\n",
            "epoch:  76  loss: 0.46413487\n",
            "epoch: 101  loss: 0.42888403\n",
            "epoch: 126  loss: 0.40092471\n",
            "epoch: 151  loss: 0.37942499\n",
            "epoch: 176  loss: 0.36461782\n",
            "epoch: 201  loss: 0.35019308\n",
            "epoch: 226  loss: 0.33695957\n",
            "epoch: 251  loss: 0.33249313\n",
            "epoch: 276  loss: 0.32155737\n",
            "epoch: 300  loss: 0.31676418\n",
            "\n",
            "Duration: 16 seconds\n"
          ]
        }
      ],
      "source": [
        "import time\n",
        "start_time = time.time()\n",
        "\n",
        "epochs = 300\n",
        "losses = []\n",
        "\n",
        "for i in range(epochs):\n",
        "    i+=1\n",
        "    y_pred = model(cat_train, con_train)\n",
        "    loss = criterion(y_pred, y_train)\n",
        "    losses.append(loss)\n",
        "    \n",
        "    # a neat trick to save screen space:\n",
        "    if i%25 == 1:\n",
        "        print(f'epoch: {i:3}  loss: {loss.item():10.8f}')\n",
        "\n",
        "    optimizer.zero_grad()\n",
        "    loss.backward()\n",
        "    optimizer.step()\n",
        "\n",
        "print(f'epoch: {i:3}  loss: {loss.item():10.8f}') # print the last line\n",
        "print(f'\\nDuration: {time.time() - start_time:.0f} seconds') # print the time elapsed"
      ]
    },
    {
      "cell_type": "markdown",
      "metadata": {
        "id": "cZstGOVjD36_"
      },
      "source": [
        "### 13. Plot the Cross Entropy Loss against epochs\n",
        "Results may vary. The shape of the plot is what matters."
      ]
    },
    {
      "cell_type": "code",
      "source": [
        "lossessls=[]\n",
        "for i in range(len(losses)):\n",
        "  lossessls.append(losses[i].item())\n",
        "lossessls"
      ],
      "metadata": {
        "colab": {
          "base_uri": "https://localhost:8080/"
        },
        "id": "oUNpPZI-QGv4",
        "outputId": "d522fb3a-25f0-4f4e-ba0a-bb0cf04cfc75"
      },
      "execution_count": 66,
      "outputs": [
        {
          "output_type": "execute_result",
          "data": {
            "text/plain": [
              "[0.81226646900177,\n",
              " 0.8009200692176819,\n",
              " 0.7813760042190552,\n",
              " 0.7680522799491882,\n",
              " 0.7542457580566406,\n",
              " 0.7482631206512451,\n",
              " 0.7316873669624329,\n",
              " 0.7227405309677124,\n",
              " 0.7117660045623779,\n",
              " 0.7025765776634216,\n",
              " 0.6933525204658508,\n",
              " 0.6761257648468018,\n",
              " 0.6746388077735901,\n",
              " 0.663617730140686,\n",
              " 0.6573411822319031,\n",
              " 0.649068295955658,\n",
              " 0.6432321667671204,\n",
              " 0.6381732225418091,\n",
              " 0.6291130185127258,\n",
              " 0.6200529336929321,\n",
              " 0.6143381595611572,\n",
              " 0.6143050789833069,\n",
              " 0.6095961332321167,\n",
              " 0.6027629971504211,\n",
              " 0.599246621131897,\n",
              " 0.5912203788757324,\n",
              " 0.589118480682373,\n",
              " 0.5869870185852051,\n",
              " 0.5760547518730164,\n",
              " 0.5764424204826355,\n",
              " 0.5702345371246338,\n",
              " 0.5663665533065796,\n",
              " 0.5672957301139832,\n",
              " 0.5626813173294067,\n",
              " 0.5593883395195007,\n",
              " 0.5537376403808594,\n",
              " 0.5491929054260254,\n",
              " 0.5497794151306152,\n",
              " 0.5443699359893799,\n",
              " 0.5380454659461975,\n",
              " 0.542054295539856,\n",
              " 0.5385302901268005,\n",
              " 0.5314293503761292,\n",
              " 0.5302999019622803,\n",
              " 0.5271140933036804,\n",
              " 0.5263111591339111,\n",
              " 0.5243259072303772,\n",
              " 0.5220803022384644,\n",
              " 0.518520176410675,\n",
              " 0.5159865617752075,\n",
              " 0.5145209431648254,\n",
              " 0.5127759575843811,\n",
              " 0.5120018720626831,\n",
              " 0.5067123174667358,\n",
              " 0.5076791644096375,\n",
              " 0.5030593276023865,\n",
              " 0.5022610425949097,\n",
              " 0.49889126420021057,\n",
              " 0.49789729714393616,\n",
              " 0.4945005774497986,\n",
              " 0.491279661655426,\n",
              " 0.49234041571617126,\n",
              " 0.49091023206710815,\n",
              " 0.4836637079715729,\n",
              " 0.4847060441970825,\n",
              " 0.48317018151283264,\n",
              " 0.4830330014228821,\n",
              " 0.48069387674331665,\n",
              " 0.4758811593055725,\n",
              " 0.47838881611824036,\n",
              " 0.47462812066078186,\n",
              " 0.47606977820396423,\n",
              " 0.4682990610599518,\n",
              " 0.46832001209259033,\n",
              " 0.467924565076828,\n",
              " 0.4641348719596863,\n",
              " 0.46579670906066895,\n",
              " 0.4610814154148102,\n",
              " 0.46107417345046997,\n",
              " 0.4608933925628662,\n",
              " 0.4568466544151306,\n",
              " 0.45403698086738586,\n",
              " 0.4538891315460205,\n",
              " 0.45492637157440186,\n",
              " 0.4502868056297302,\n",
              " 0.45262932777404785,\n",
              " 0.44929519295692444,\n",
              " 0.44583916664123535,\n",
              " 0.4431222379207611,\n",
              " 0.4411067068576813,\n",
              " 0.4425571858882904,\n",
              " 0.43949979543685913,\n",
              " 0.43982934951782227,\n",
              " 0.43909838795661926,\n",
              " 0.4367632567882538,\n",
              " 0.4337719678878784,\n",
              " 0.43577125668525696,\n",
              " 0.4320839047431946,\n",
              " 0.4323310852050781,\n",
              " 0.43063032627105713,\n",
              " 0.42888402938842773,\n",
              " 0.4244087040424347,\n",
              " 0.42598867416381836,\n",
              " 0.42643028497695923,\n",
              " 0.42426201701164246,\n",
              " 0.4249992072582245,\n",
              " 0.42011383175849915,\n",
              " 0.41977161169052124,\n",
              " 0.4171583652496338,\n",
              " 0.420896053314209,\n",
              " 0.4135630130767822,\n",
              " 0.4152321219444275,\n",
              " 0.41482141613960266,\n",
              " 0.4141286611557007,\n",
              " 0.409335732460022,\n",
              " 0.4134806990623474,\n",
              " 0.4112941324710846,\n",
              " 0.4079381227493286,\n",
              " 0.40935415029525757,\n",
              " 0.41037875413894653,\n",
              " 0.40893441438674927,\n",
              " 0.4064669907093048,\n",
              " 0.4071282744407654,\n",
              " 0.4043903648853302,\n",
              " 0.4015136659145355,\n",
              " 0.4009247124195099,\n",
              " 0.3959318995475769,\n",
              " 0.3944629728794098,\n",
              " 0.3996536433696747,\n",
              " 0.398867666721344,\n",
              " 0.3955954313278198,\n",
              " 0.3916897177696228,\n",
              " 0.39369916915893555,\n",
              " 0.3950553834438324,\n",
              " 0.3926237225532532,\n",
              " 0.3899427354335785,\n",
              " 0.38909104466438293,\n",
              " 0.39317587018013,\n",
              " 0.3917580842971802,\n",
              " 0.38825803995132446,\n",
              " 0.38905107975006104,\n",
              " 0.38667789101600647,\n",
              " 0.3833165764808655,\n",
              " 0.385701447725296,\n",
              " 0.3828980326652527,\n",
              " 0.38028597831726074,\n",
              " 0.3843764066696167,\n",
              " 0.38048437237739563,\n",
              " 0.38272976875305176,\n",
              " 0.3793422281742096,\n",
              " 0.3794249892234802,\n",
              " 0.37780871987342834,\n",
              " 0.3813822269439697,\n",
              " 0.3786858916282654,\n",
              " 0.3777068853378296,\n",
              " 0.37536436319351196,\n",
              " 0.37285909056663513,\n",
              " 0.37308260798454285,\n",
              " 0.37254858016967773,\n",
              " 0.3727293014526367,\n",
              " 0.37189754843711853,\n",
              " 0.37260884046554565,\n",
              " 0.36737239360809326,\n",
              " 0.3746940493583679,\n",
              " 0.3730900287628174,\n",
              " 0.3653062582015991,\n",
              " 0.3657482862472534,\n",
              " 0.3654647171497345,\n",
              " 0.3654223680496216,\n",
              " 0.3651791512966156,\n",
              " 0.36285126209259033,\n",
              " 0.3643118739128113,\n",
              " 0.3616577982902527,\n",
              " 0.3649049997329712,\n",
              " 0.36536699533462524,\n",
              " 0.36461782455444336,\n",
              " 0.3603801429271698,\n",
              " 0.35904598236083984,\n",
              " 0.3622826039791107,\n",
              " 0.35924094915390015,\n",
              " 0.3598519563674927,\n",
              " 0.35641661286354065,\n",
              " 0.354922890663147,\n",
              " 0.3614836037158966,\n",
              " 0.35630929470062256,\n",
              " 0.3578585088253021,\n",
              " 0.35352450609207153,\n",
              " 0.3550378978252411,\n",
              " 0.35397979617118835,\n",
              " 0.3557003140449524,\n",
              " 0.35121259093284607,\n",
              " 0.35232093930244446,\n",
              " 0.35730016231536865,\n",
              " 0.35144472122192383,\n",
              " 0.35155558586120605,\n",
              " 0.352999210357666,\n",
              " 0.3491833508014679,\n",
              " 0.3523772358894348,\n",
              " 0.35163140296936035,\n",
              " 0.349529504776001,\n",
              " 0.3501930832862854,\n",
              " 0.3501220643520355,\n",
              " 0.3462524116039276,\n",
              " 0.34952640533447266,\n",
              " 0.34778687357902527,\n",
              " 0.3474535048007965,\n",
              " 0.3450313210487366,\n",
              " 0.3438628017902374,\n",
              " 0.34558936953544617,\n",
              " 0.3454315662384033,\n",
              " 0.3437000811100006,\n",
              " 0.3479458689689636,\n",
              " 0.3416007161140442,\n",
              " 0.34373074769973755,\n",
              " 0.3390045166015625,\n",
              " 0.3437865376472473,\n",
              " 0.3412321209907532,\n",
              " 0.34467869997024536,\n",
              " 0.3430235981941223,\n",
              " 0.34545794129371643,\n",
              " 0.3405689597129822,\n",
              " 0.3443431258201599,\n",
              " 0.34180670976638794,\n",
              " 0.34197649359703064,\n",
              " 0.3371295630931854,\n",
              " 0.336959570646286,\n",
              " 0.3378017246723175,\n",
              " 0.3395507335662842,\n",
              " 0.34062591195106506,\n",
              " 0.33922791481018066,\n",
              " 0.3394220769405365,\n",
              " 0.33521807193756104,\n",
              " 0.336244136095047,\n",
              " 0.33684471249580383,\n",
              " 0.3365156650543213,\n",
              " 0.33538874983787537,\n",
              " 0.33314216136932373,\n",
              " 0.33439117670059204,\n",
              " 0.33414381742477417,\n",
              " 0.33207327127456665,\n",
              " 0.3343952000141144,\n",
              " 0.3348177373409271,\n",
              " 0.33369526267051697,\n",
              " 0.3318466544151306,\n",
              " 0.3347949981689453,\n",
              " 0.3356192708015442,\n",
              " 0.33191078901290894,\n",
              " 0.3302880823612213,\n",
              " 0.3311123847961426,\n",
              " 0.330211877822876,\n",
              " 0.3324931263923645,\n",
              " 0.3322972357273102,\n",
              " 0.3308923840522766,\n",
              " 0.3302081525325775,\n",
              " 0.32646724581718445,\n",
              " 0.33064019680023193,\n",
              " 0.3267974555492401,\n",
              " 0.3273342251777649,\n",
              " 0.3302456736564636,\n",
              " 0.32649776339530945,\n",
              " 0.3264721632003784,\n",
              " 0.3276141285896301,\n",
              " 0.32744714617729187,\n",
              " 0.3269372582435608,\n",
              " 0.3281862139701843,\n",
              " 0.32423365116119385,\n",
              " 0.3226991891860962,\n",
              " 0.32703495025634766,\n",
              " 0.325600266456604,\n",
              " 0.3240663409233093,\n",
              " 0.3235032558441162,\n",
              " 0.32163217663764954,\n",
              " 0.32173117995262146,\n",
              " 0.3258965313434601,\n",
              " 0.3232071101665497,\n",
              " 0.3215573728084564,\n",
              " 0.32387876510620117,\n",
              " 0.32329681515693665,\n",
              " 0.3203079402446747,\n",
              " 0.32321393489837646,\n",
              " 0.32406923174858093,\n",
              " 0.3225947320461273,\n",
              " 0.31952768564224243,\n",
              " 0.3208894431591034,\n",
              " 0.32124239206314087,\n",
              " 0.3208484649658203,\n",
              " 0.3228056728839874,\n",
              " 0.3239024579524994,\n",
              " 0.32040050625801086,\n",
              " 0.3175457715988159,\n",
              " 0.31895455718040466,\n",
              " 0.3194245994091034,\n",
              " 0.3204104006290436,\n",
              " 0.316720187664032,\n",
              " 0.3202434480190277,\n",
              " 0.31834250688552856,\n",
              " 0.3198435604572296,\n",
              " 0.31757062673568726,\n",
              " 0.3186214864253998,\n",
              " 0.3167641758918762]"
            ]
          },
          "metadata": {},
          "execution_count": 66
        }
      ]
    },
    {
      "cell_type": "code",
      "execution_count": 67,
      "metadata": {
        "colab": {
          "base_uri": "https://localhost:8080/",
          "height": 279
        },
        "id": "S9v6aTZqD36_",
        "outputId": "c93e659e-566a-4c7e-c842-861b259dffdf"
      },
      "outputs": [
        {
          "output_type": "display_data",
          "data": {
            "text/plain": [
              "<Figure size 432x288 with 1 Axes>"
            ],
            "image/png": "[encoded data removed]"
          },
          "metadata": {
            "needs_background": "light"
          }
        }
      ],
      "source": [
        "# CODE HERE\n",
        "plt.plot(range(300),lossessls)\n",
        "plt.ylabel('Cross Entropy Loss')\n",
        "plt.xlabel('epoch');"
      ]
    },
    {
      "cell_type": "markdown",
      "metadata": {
        "id": "r_h5FLEMD37A"
      },
      "source": [
        "### 14. Evaluate the test set\n",
        "With torch set to <tt>no_grad</tt>, pass <tt>cat_test</tt> and <tt>con_test</tt> through the trained model. Create a validation set called \"y_val\". Compare the output to <tt>y_test</tt> using the loss function defined above. Results may vary."
      ]
    },
    {
      "cell_type": "code",
      "execution_count": 68,
      "metadata": {
        "colab": {
          "base_uri": "https://localhost:8080/"
        },
        "id": "eL5IkReKD37B",
        "outputId": "0d03a98d-33f1-4d21-d3b6-e703489de869"
      },
      "outputs": [
        {
          "output_type": "stream",
          "name": "stdout",
          "text": [
            "CE Loss: 0.32072335\n"
          ]
        }
      ],
      "source": [
        "# CODE HERE\n",
        "\n",
        "with torch.no_grad():\n",
        "    y_val = model(cat_test, con_test)\n",
        "    loss = criterion(y_val, y_test)\n",
        "print(f'CE Loss: {loss:.8f}')\n"
      ]
    },
    {
      "cell_type": "markdown",
      "metadata": {
        "id": "ptX_WhQjD37C"
      },
      "source": [
        "### 15. Calculate the overall percent accuracy\n",
        "Using a for loop, compare the argmax values of the <tt>y_val</tt> validation set to the <tt>y_test</tt> set."
      ]
    },
    {
      "cell_type": "code",
      "execution_count": 71,
      "metadata": {
        "colab": {
          "base_uri": "https://localhost:8080/"
        },
        "id": "6YVrYJN6D37C",
        "outputId": "5516aa05-ac6e-4f01-d009-cf64c57629f9"
      },
      "outputs": [
        {
          "output_type": "stream",
          "name": "stdout",
          "text": [
            "\n",
            "4270 out of 5000 = 85.40% correct\n"
          ]
        }
      ],
      "source": [
        "# CODE HERE\n",
        "rows = 5000\n",
        "correct = 0\n",
        "for i in range(rows):\n",
        "    if y_val[i].argmax().item() == y_test[i]:\n",
        "        correct += 1\n",
        "print(f'\\n{correct} out of {rows} = {100*correct/rows:.2f}% correct')\n"
      ]
    },
    {
      "cell_type": "markdown",
      "metadata": {
        "id": "ufBv1-KND37D"
      },
      "source": [
        "### BONUS: Feed new data through the trained model\n",
        "See if you can write a function that allows a user to input their own values, and generates a prediction.<br>\n",
        "<strong>HINT</strong>:<br>There's no need to build a DataFrame. You can use inputs to populate column variables, convert them to embeddings with a context dictionary, and pass the embedded values directly into the tensor constructors:<br>\n",
        "<pre>mar = input(\"What is the person's marital status? \")\n",
        "mar_d = dict(Divorced=0, Married=1, Married-spouse-absent=2, Never-married=3, Separated=4, Widowed=5)\n",
        "mar = mar_d[mar]\n",
        "cats = torch.tensor([..., ..., mar, ..., ...], dtype=torch.int64).reshape(1,-1)</pre>\n",
        "Make sure that names are put in alphabetical order before assigning numbers.\n",
        "\n",
        "Also, be sure to run <tt>model.eval()</tt> before passing new date through. Good luck!"
      ]
    },
    {
      "cell_type": "code",
      "source": [
        "torch.save(model.state_dict(), 'MyModel.pt')"
      ],
      "metadata": {
        "id": "CrgOSunUTAaH"
      },
      "execution_count": 72,
      "outputs": []
    },
    {
      "cell_type": "code",
      "source": [
        "emb_szs = [(2, 1), (14, 7), (6, 3), (5, 3), (12, 6)]\n",
        "model2 = TabularModel(emb_szs, 2, 2, [50], p=0.4)"
      ],
      "metadata": {
        "id": "-9NkBYI1Te4p"
      },
      "execution_count": 78,
      "outputs": []
    },
    {
      "cell_type": "code",
      "source": [
        "model2.load_state_dict(torch.load('MyModel.pt'))\n",
        "model2.eval() "
      ],
      "metadata": {
        "colab": {
          "base_uri": "https://localhost:8080/"
        },
        "id": "sL6z-2QuTFZ4",
        "outputId": "c57fe116-6047-40b6-b2cd-a5a27a2e59b0"
      },
      "execution_count": 79,
      "outputs": [
        {
          "output_type": "execute_result",
          "data": {
            "text/plain": [
              "TabularModel(\n",
              "  (embeds): ModuleList(\n",
              "    (0): Embedding(2, 1)\n",
              "    (1): Embedding(14, 7)\n",
              "    (2): Embedding(6, 3)\n",
              "    (3): Embedding(5, 3)\n",
              "    (4): Embedding(12, 6)\n",
              "  )\n",
              "  (emb_drop): Dropout(p=0.4, inplace=False)\n",
              "  (bn_cont): BatchNorm1d(2, eps=1e-05, momentum=0.1, affine=True, track_running_stats=True)\n",
              "  (layers): Sequential(\n",
              "    (0): Linear(in_features=22, out_features=50, bias=True)\n",
              "    (1): ReLU(inplace=True)\n",
              "    (2): BatchNorm1d(50, eps=1e-05, momentum=0.1, affine=True, track_running_stats=True)\n",
              "    (3): Dropout(p=0.4, inplace=False)\n",
              "    (4): Linear(in_features=50, out_features=2, bias=True)\n",
              "  )\n",
              ")"
            ]
          },
          "metadata": {},
          "execution_count": 79
        }
      ]
    },
    {
      "cell_type": "code",
      "execution_count": 80,
      "metadata": {
        "colab": {
          "base_uri": "https://localhost:8080/"
        },
        "id": "uYyVp0bHD37E",
        "outputId": "4888c296-0e47-4182-c452-96ec20a888f8"
      },
      "outputs": [
        {
          "output_type": "stream",
          "name": "stdout",
          "text": [
            "What is the person's age? (18-90)  22\n",
            "What is the person's sex? (Male/Female) male\n",
            "What is the person's education level? (3-16) 12\n",
            "What is the person's marital status? married\n",
            "What is the person's workclass? private\n",
            "What is the person's occupation? sales\n",
            "How many hours/week are worked? (20-90)  40\n",
            "\n",
            "The predicted label is 0\n"
          ]
        }
      ],
      "source": [
        "# WRITE YOUR CODE HERE:\n",
        "# input for the model cat_cols=['sex', 'education', 'marital-status', 'workclass', 'occupation'] \n",
        "                    #  cont_cols=['age','hours-per-week']\n",
        "\n",
        "def test_data(mdl): # pass in the name of the model\n",
        "    # INPUT NEW DATA\n",
        "    age = float(input(\"What is the person's age? (18-90)  \"))\n",
        "    sex = input(\"What is the person's sex? (Male/Female) \").capitalize()\n",
        "    edn = int(input(\"What is the person's education level? (3-16) \"))\n",
        "    mar = input(\"What is the person's marital status? \").capitalize()\n",
        "    wrk = input(\"What is the person's workclass? \").capitalize()\n",
        "    occ = input(\"What is the person's occupation? \").capitalize()\n",
        "    hrs = float(input(\"How many hours/week are worked? (20-90)  \"))\n",
        "\n",
        "    # PREPROCESS THE DATA\n",
        "    sex_d = {'Female':0, 'Male':1}\n",
        "    mar_d = {'Divorced':0, 'Married':1, 'Married-spouse-absent':2, 'Never-married':3, 'Separated':4, 'Widowed':5}\n",
        "    wrk_d = {'Federal-gov':0, 'Local-gov':1, 'Private':2, 'Self-emp':3, 'State-gov':4}\n",
        "    occ_d = {'Adm-clerical':0, 'Craft-repair':1, 'Exec-managerial':2, 'Farming-fishing':3, 'Handlers-cleaners':4,\n",
        "            'Machine-op-inspct':5, 'Other-service':6, 'Prof-specialty':7, 'Protective-serv':8, 'Sales':9, \n",
        "            'Tech-support':10, 'Transport-moving':11}\n",
        "\n",
        "    sex = sex_d[sex]\n",
        "    mar = mar_d[mar]\n",
        "    wrk = wrk_d[wrk]\n",
        "    occ = occ_d[occ]\n",
        "\n",
        "    # CREATE CAT AND CONT TENSORS\n",
        "    cats = torch.tensor([sex,edn,mar,wrk,occ], dtype=torch.int64).reshape(1,-1)\n",
        "    conts = torch.tensor([age,hrs], dtype=torch.float).reshape(1,-1)\n",
        "    \n",
        "    # SET MODEL TO EVAL (in case this hasn't been done)\n",
        "    mdl.eval()\n",
        "\n",
        "    # PASS NEW DATA THROUGH THE MODEL WITHOUT PERFORMING A BACKPROP\n",
        "    with torch.no_grad():\n",
        "        z = mdl(cats, conts).argmax().item()\n",
        "\n",
        "    print(f'\\nThe predicted label is {z}')\n",
        "    \n",
        "test_data(model)"
      ]
    },
    {
      "cell_type": "markdown",
      "metadata": {
        "id": "YUmuaXTVD37F"
      },
      "source": [
        "## Great job!"
      ]
    }
  ],
  "metadata": {
    "kernelspec": {
      "display_name": "Python 3",
      "language": "python",
      "name": "python3"
    },
    "language_info": {
      "codemirror_mode": {
        "name": "ipython",
        "version": 3
      },
      "file_extension": ".py",
      "mimetype": "text/x-python",
      "name": "python",
      "nbconvert_exporter": "python",
      "pygments_lexer": "ipython3",
      "version": "3.7.3"
    },
    "colab": {
      "provenance": []
    }
  },
  "nbformat": 4,
  "nbformat_minor": 0
}