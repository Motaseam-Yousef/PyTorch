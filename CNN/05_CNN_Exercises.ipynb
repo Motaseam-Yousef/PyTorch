{
  "cells": [
    {
      "cell_type": "markdown",
      "metadata": {
        "id": "EzVzTSGw1VfX"
      },
      "source": [
        "# CNN Exercises\n",
        "For these exercises we'll work with the <a href='https://www.kaggle.com/zalando-research/fashionmnist'>Fashion-MNIST</a> dataset, also available through <a href='https://pytorch.org/docs/stable/torchvision/index.html'><tt><strong>torchvision</strong></tt></a>. Like MNIST, this dataset consists of a training set of 60,000 examples and a test set of 10,000 examples. Each example is a 28x28 grayscale image, associated with a label from 10 classes:\n",
        "0. T-shirt/top\n",
        "1. Trouser\n",
        "2. Pullover\n",
        "3. Dress\n",
        "4. Coat\n",
        "5. Sandal\n",
        "6. Shirt\n",
        "7. Sneaker\n",
        "8. Bag\n",
        "9. Ankle boot\n",
        "\n",
        "<div class=\"alert alert-danger\" style=\"margin: 10px\"><strong>IMPORTANT NOTE!</strong> Make sure you don't run the cells directly above the example output shown, <br>otherwise you will end up writing over the example output!</div>"
      ]
    },
    {
      "cell_type": "markdown",
      "metadata": {
        "id": "H7QeU6fg1VfZ"
      },
      "source": [
        "## Perform standard imports, load the Fashion-MNIST dataset\n",
        "Run the cell below to load the libraries needed for this exercise and the Fashion-MNIST dataset.<br>\n",
        "PyTorch makes the Fashion-MNIST dataset available through <a href='https://pytorch.org/docs/stable/torchvision/datasets.html#fashion-mnist'><tt><strong>torchvision</strong></tt></a>. The first time it's called, the dataset will be downloaded onto your computer to the path specified. From that point, torchvision will always look for a local copy before attempting another download."
      ]
    },
    {
      "cell_type": "code",
      "execution_count": 25,
      "metadata": {
        "collapsed": true,
        "id": "JftdsdB11Vfa"
      },
      "outputs": [],
      "source": [
        "import torch\n",
        "import torch.nn as nn\n",
        "import torch.nn.functional as F\n",
        "from torch.utils.data import DataLoader\n",
        "from torchvision import datasets, transforms\n",
        "from torchvision.utils import make_grid\n",
        "\n",
        "import numpy as np\n",
        "import pandas as pd\n",
        "from sklearn.metrics import confusion_matrix\n",
        "import matplotlib.pyplot as plt\n",
        "%matplotlib inline\n",
        "\n",
        "transform = transforms.ToTensor()\n",
        "\n",
        "train_data = datasets.FashionMNIST(root='../Data', train=True, download=True, transform=transform)\n",
        "test_data = datasets.FashionMNIST(root='../Data', train=False, download=True, transform=transform)\n",
        "\n",
        "class_names = ['T-shirt','Trouser','Sweater','Dress','Coat','Sandal','Shirt','Sneaker','Bag','Boot']"
      ]
    },
    {
      "cell_type": "markdown",
      "metadata": {
        "id": "q_u1mJS81Vfd"
      },
      "source": [
        "## 1. Create data loaders\n",
        "Use DataLoader to create a <tt>train_loader</tt> and a <tt>test_loader</tt>. Batch sizes should be 10 for both."
      ]
    },
    {
      "cell_type": "code",
      "execution_count": 26,
      "metadata": {
        "collapsed": true,
        "id": "ckD9mq8w1Vfe"
      },
      "outputs": [],
      "source": [
        "# CODE HERE\n",
        "train_loader = DataLoader(train_data, batch_size=10, shuffle=True)\n",
        "test_loader = DataLoader(test_data, batch_size=10, shuffle=False)\n"
      ]
    },
    {
      "cell_type": "markdown",
      "metadata": {
        "id": "5v5kirYb1Vfh"
      },
      "source": [
        "## 2. Examine a batch of images\n",
        "Use DataLoader, <tt>make_grid</tt> and matplotlib to display the first batch of 10 images.<br>\n",
        "OPTIONAL: display the labels as well"
      ]
    },
    {
      "cell_type": "code",
      "execution_count": 27,
      "metadata": {
        "collapsed": true,
        "colab": {
          "base_uri": "https://localhost:8080/",
          "height": 127
        },
        "id": "oqmsuaD51Vfj",
        "outputId": "db14559d-bd3c-4c1d-e9a6-66220116b395"
      },
      "outputs": [
        {
          "output_type": "stream",
          "name": "stdout",
          "text": [
            "Labels:  [   7    5    6    2    3    9    6    7    5    0]\n"
          ]
        },
        {
          "output_type": "display_data",
          "data": {
            "text/plain": [
              "<Figure size 720x288 with 1 Axes>"
            ],
            "image/png": "[encoded data removed]"
          },
          "metadata": {
            "needs_background": "light"
          }
        }
      ],
      "source": [
        "# CODE HERE\n",
        "from torchvision.utils import make_grid\n",
        "np.set_printoptions(formatter=dict(int=lambda x: f'{x:4}')) # to widen the printed array\n",
        "\n",
        "# Grab the first batch of images\n",
        "for images,labels in train_loader: \n",
        "    break\n",
        "\n",
        "# Print the first 12 labels\n",
        "print('Labels: ', labels[:12].numpy())\n",
        "\n",
        "# Print the first 12 images\n",
        "im = make_grid(images[:12], nrow=12)  # the default nrow is 8\n",
        "plt.figure(figsize=(10,4))\n",
        "# We need to transpose the images from CWH to WHC\n",
        "plt.imshow(np.transpose(im.numpy(), (1, 2, 0)));\n"
      ]
    },
    {
      "cell_type": "markdown",
      "metadata": {
        "id": "JZFqeXj71Vfo"
      },
      "source": [
        "## Downsampling\n",
        "<h3>3. If a 28x28 image is passed through a Convolutional layer using a 5x5 filter, a step size of 1, and no padding, what is the resulting matrix size?</h3>"
      ]
    },
    {
      "cell_type": "code",
      "source": [
        "conv1 = nn.Conv2d(1, 3, 5, 1)\n",
        "\n",
        "for i, (X_train, y_train) in enumerate(train_data):\n",
        "    break\n",
        "\n",
        "x = X_train.view(1,1,28,28)\n",
        "print(x.shape)\n",
        "x = F.relu(conv1(x))\n",
        "print(x.shape)"
      ],
      "metadata": {
        "colab": {
          "base_uri": "https://localhost:8080/"
        },
        "id": "b8rFZcn54Qcn",
        "outputId": "75a43876-2497-49f3-c7b4-33ceeeed5726"
      },
      "execution_count": 28,
      "outputs": [
        {
          "output_type": "stream",
          "name": "stdout",
          "text": [
            "torch.Size([1, 1, 28, 28])\n",
            "torch.Size([1, 3, 24, 24])\n"
          ]
        }
      ]
    },
    {
      "cell_type": "markdown",
      "metadata": {
        "id": "fbLyoOYu1Vfp"
      },
      "source": [
        "<div style='border:1px black solid; padding:5px'>\n",
        "<br><br>\n",
        "</div>"
      ]
    },
    {
      "cell_type": "markdown",
      "metadata": {
        "id": "H5BxRbvy1Vfs"
      },
      "source": [
        "### 4. If the sample from question 3 is then passed through a 2x2 MaxPooling layer, what is the resulting matrix size?"
      ]
    },
    {
      "cell_type": "code",
      "source": [
        "x = F.max_pool2d(x, 2, 2)\n",
        "print(x.shape)"
      ],
      "metadata": {
        "colab": {
          "base_uri": "https://localhost:8080/"
        },
        "id": "d3Mi4JKK6TBP",
        "outputId": "ea29c810-871e-40a0-ba21-fff9479add93"
      },
      "execution_count": 29,
      "outputs": [
        {
          "output_type": "stream",
          "name": "stdout",
          "text": [
            "torch.Size([1, 3, 12, 12])\n"
          ]
        }
      ]
    },
    {
      "cell_type": "markdown",
      "metadata": {
        "id": "P1Y--lk_1Vfs"
      },
      "source": [
        "<div style='border:1px black solid; padding:5px'>\n",
        "<br><br>\n",
        "</div>"
      ]
    },
    {
      "cell_type": "markdown",
      "metadata": {
        "id": "3-vrfpo91Vfu"
      },
      "source": [
        "## CNN definition\n",
        "### 5. Define a convolutional neural network\n",
        "Define a CNN model that can be trained on the Fashion-MNIST dataset. The model should contain two convolutional layers, two pooling layers, and two fully connected layers. You can use any number of neurons per layer so long as the model takes in a 28x28 image and returns an output of 10. Portions of the definition have been filled in for convenience."
      ]
    },
    {
      "cell_type": "code",
      "execution_count": 40,
      "metadata": {
        "collapsed": true,
        "id": "YkMeWb7v1Vfv"
      },
      "outputs": [],
      "source": [
        "# CODE HERE\n",
        "class ConvolutionalNetwork(nn.Module):\n",
        "    def __init__(self):\n",
        "        super().__init__()\n",
        "        self.conv1 = nn.Conv2d(1, 6, 3, 1)\n",
        "        self.conv2 = nn.Conv2d(6, 16, 3, 1)\n",
        "        self.fc1 = nn.Linear(5*5*16, 120)\n",
        "        self.fc2 = nn.Linear(120, 84)\n",
        "\n",
        "    def forward(self, X):\n",
        "        X = F.relu(self.conv1(X))\n",
        "        X = F.max_pool2d(X, 2, 2)\n",
        "        X = F.relu(self.conv2(X))\n",
        "        X = F.max_pool2d(X, 2, 2)\n",
        "        X = X.view(-1, 5*5*16)\n",
        "        X = F.relu(self.fc1(X))\n",
        "        X = self.fc2(X)\n",
        "        return F.log_softmax(X, dim=1)"
      ]
    },
    {
      "cell_type": "code",
      "source": [
        "torch.manual_seed(42)\n",
        "model = ConvolutionalNetwork()\n",
        "model"
      ],
      "metadata": {
        "colab": {
          "base_uri": "https://localhost:8080/"
        },
        "id": "cRd-3-XD7z1U",
        "outputId": "acc28198-08b0-4bf2-8f6d-c1378e34c693"
      },
      "execution_count": 41,
      "outputs": [
        {
          "output_type": "execute_result",
          "data": {
            "text/plain": [
              "ConvolutionalNetwork(\n",
              "  (conv1): Conv2d(1, 6, kernel_size=(3, 3), stride=(1, 1))\n",
              "  (conv2): Conv2d(6, 16, kernel_size=(3, 3), stride=(1, 1))\n",
              "  (fc1): Linear(in_features=400, out_features=120, bias=True)\n",
              "  (fc2): Linear(in_features=120, out_features=84, bias=True)\n",
              ")"
            ]
          },
          "metadata": {},
          "execution_count": 41
        }
      ]
    },
    {
      "cell_type": "markdown",
      "metadata": {
        "id": "WYPeJWfs1Vfw"
      },
      "source": [
        "## Trainable parameters"
      ]
    },
    {
      "cell_type": "markdown",
      "metadata": {
        "id": "2gsQbDX81Vfx"
      },
      "source": [
        "### 6. What is the total number of trainable parameters (weights & biases) in the model above?\n",
        "Answers will vary depending on your model definition."
      ]
    },
    {
      "cell_type": "markdown",
      "metadata": {
        "id": "5pcF2hZ81Vfx"
      },
      "source": [
        "<div style='border:1px black solid; padding:5px'>\n",
        "<br><br>\n",
        "</div>"
      ]
    },
    {
      "cell_type": "code",
      "execution_count": 42,
      "metadata": {
        "collapsed": true,
        "id": "Kc7rCgw51Vfy"
      },
      "outputs": [],
      "source": [
        "# CODE HERE\n",
        "def count_parameters(model):\n",
        "    params = [p.numel() for p in model.parameters() if p.requires_grad]\n",
        "    for item in params:\n",
        "        print(f'{item:>6}')\n",
        "    print(f'______\\n{sum(params):>6}')"
      ]
    },
    {
      "cell_type": "code",
      "source": [
        "count_parameters(model)"
      ],
      "metadata": {
        "colab": {
          "base_uri": "https://localhost:8080/"
        },
        "id": "fTcuAZ7r7wXN",
        "outputId": "038fe60d-6143-42c9-f407-a4ef959207c6"
      },
      "execution_count": 43,
      "outputs": [
        {
          "output_type": "stream",
          "name": "stdout",
          "text": [
            "    54\n",
            "     6\n",
            "   864\n",
            "    16\n",
            " 48000\n",
            "   120\n",
            " 10080\n",
            "    84\n",
            "______\n",
            " 59224\n"
          ]
        }
      ]
    },
    {
      "cell_type": "markdown",
      "metadata": {
        "id": "QxfoA-CB1Vfz"
      },
      "source": [
        "### 7. Define loss function & optimizer\n",
        "Define a loss function called \"criterion\" and an optimizer called \"optimizer\".<br>\n",
        "You can use any functions you want, although we used Cross Entropy Loss and Adam (learning rate of 0.001) respectively."
      ]
    },
    {
      "cell_type": "code",
      "execution_count": 44,
      "metadata": {
        "collapsed": true,
        "id": "K-rPiM8s1Vf0"
      },
      "outputs": [],
      "source": [
        "# CODE HERE\n",
        "criterion = nn.CrossEntropyLoss()\n",
        "optimizer = torch.optim.Adam(model.parameters(), lr=0.001)"
      ]
    },
    {
      "cell_type": "markdown",
      "metadata": {
        "id": "bNnV5x_s1Vf1"
      },
      "source": [
        "### 8. Train the model\n",
        "Don't worry about tracking loss values, displaying results, or validating the test set. Just train the model through 5 epochs. We'll evaluate the trained model in the next step.<br>\n",
        "OPTIONAL: print something after each epoch to indicate training progress."
      ]
    },
    {
      "cell_type": "code",
      "execution_count": 45,
      "metadata": {
        "collapsed": true,
        "colab": {
          "base_uri": "https://localhost:8080/"
        },
        "id": "73Tfyui41Vf1",
        "outputId": "9bcb9000-4b78-45bb-b2f7-c359bd293481"
      },
      "outputs": [
        {
          "output_type": "stream",
          "name": "stdout",
          "text": [
            "epoch:  0  batch:  600 [  6000/60000]  loss: 0.43213883  accuracy:  63.000%\n",
            "epoch:  0  batch: 1200 [ 12000/60000]  loss: 1.00710940  accuracy:  69.525%\n",
            "epoch:  0  batch: 1800 [ 18000/60000]  loss: 1.04834592  accuracy:  72.350%\n",
            "epoch:  0  batch: 2400 [ 24000/60000]  loss: 1.39275813  accuracy:  74.504%\n",
            "epoch:  0  batch: 3000 [ 30000/60000]  loss: 0.28961882  accuracy:  75.627%\n",
            "epoch:  0  batch: 3600 [ 36000/60000]  loss: 0.22871378  accuracy:  76.808%\n",
            "epoch:  0  batch: 4200 [ 42000/60000]  loss: 0.28118140  accuracy:  77.740%\n",
            "epoch:  0  batch: 4800 [ 48000/60000]  loss: 0.54819912  accuracy:  78.438%\n",
            "epoch:  0  batch: 5400 [ 54000/60000]  loss: 0.48582834  accuracy:  79.070%\n",
            "epoch:  0  batch: 6000 [ 60000/60000]  loss: 0.23569155  accuracy:  79.658%\n",
            "epoch:  1  batch:  600 [  6000/60000]  loss: 0.28556183  accuracy:  84.800%\n",
            "epoch:  1  batch: 1200 [ 12000/60000]  loss: 0.30893368  accuracy:  84.875%\n",
            "epoch:  1  batch: 1800 [ 18000/60000]  loss: 0.36740664  accuracy:  85.300%\n",
            "epoch:  1  batch: 2400 [ 24000/60000]  loss: 0.16688333  accuracy:  85.375%\n",
            "epoch:  1  batch: 3000 [ 30000/60000]  loss: 0.07530797  accuracy:  85.540%\n",
            "epoch:  1  batch: 3600 [ 36000/60000]  loss: 0.34645790  accuracy:  85.669%\n",
            "epoch:  1  batch: 4200 [ 42000/60000]  loss: 0.34544370  accuracy:  85.736%\n",
            "epoch:  1  batch: 4800 [ 48000/60000]  loss: 0.56306416  accuracy:  85.877%\n",
            "epoch:  1  batch: 5400 [ 54000/60000]  loss: 0.09359385  accuracy:  86.080%\n",
            "epoch:  1  batch: 6000 [ 60000/60000]  loss: 0.31897286  accuracy:  86.210%\n",
            "epoch:  2  batch:  600 [  6000/60000]  loss: 0.03845534  accuracy:  88.100%\n",
            "epoch:  2  batch: 1200 [ 12000/60000]  loss: 0.54364932  accuracy:  87.783%\n",
            "epoch:  2  batch: 1800 [ 18000/60000]  loss: 0.20949964  accuracy:  87.672%\n",
            "epoch:  2  batch: 2400 [ 24000/60000]  loss: 0.26484948  accuracy:  87.642%\n",
            "epoch:  2  batch: 3000 [ 30000/60000]  loss: 0.50190502  accuracy:  87.507%\n",
            "epoch:  2  batch: 3600 [ 36000/60000]  loss: 0.06913916  accuracy:  87.531%\n",
            "epoch:  2  batch: 4200 [ 42000/60000]  loss: 0.18327670  accuracy:  87.607%\n",
            "epoch:  2  batch: 4800 [ 48000/60000]  loss: 0.30786875  accuracy:  87.583%\n",
            "epoch:  2  batch: 5400 [ 54000/60000]  loss: 0.52994937  accuracy:  87.624%\n",
            "epoch:  2  batch: 6000 [ 60000/60000]  loss: 0.18366125  accuracy:  87.617%\n",
            "epoch:  3  batch:  600 [  6000/60000]  loss: 0.26868504  accuracy:  88.900%\n",
            "epoch:  3  batch: 1200 [ 12000/60000]  loss: 0.20238087  accuracy:  88.850%\n",
            "epoch:  3  batch: 1800 [ 18000/60000]  loss: 0.24585006  accuracy:  88.561%\n",
            "epoch:  3  batch: 2400 [ 24000/60000]  loss: 0.39089423  accuracy:  88.583%\n",
            "epoch:  3  batch: 3000 [ 30000/60000]  loss: 0.28196639  accuracy:  88.587%\n",
            "epoch:  3  batch: 3600 [ 36000/60000]  loss: 0.39134690  accuracy:  88.564%\n",
            "epoch:  3  batch: 4200 [ 42000/60000]  loss: 0.10889874  accuracy:  88.519%\n",
            "epoch:  3  batch: 4800 [ 48000/60000]  loss: 0.30497298  accuracy:  88.560%\n",
            "epoch:  3  batch: 5400 [ 54000/60000]  loss: 0.22586553  accuracy:  88.511%\n",
            "epoch:  3  batch: 6000 [ 60000/60000]  loss: 0.12879907  accuracy:  88.592%\n",
            "epoch:  4  batch:  600 [  6000/60000]  loss: 0.62523967  accuracy:  89.567%\n",
            "epoch:  4  batch: 1200 [ 12000/60000]  loss: 0.24173006  accuracy:  89.650%\n",
            "epoch:  4  batch: 1800 [ 18000/60000]  loss: 0.05403369  accuracy:  89.644%\n",
            "epoch:  4  batch: 2400 [ 24000/60000]  loss: 0.19814615  accuracy:  89.383%\n",
            "epoch:  4  batch: 3000 [ 30000/60000]  loss: 0.04094036  accuracy:  89.367%\n",
            "epoch:  4  batch: 3600 [ 36000/60000]  loss: 0.07095934  accuracy:  89.419%\n",
            "epoch:  4  batch: 4200 [ 42000/60000]  loss: 0.13562235  accuracy:  89.426%\n",
            "epoch:  4  batch: 4800 [ 48000/60000]  loss: 0.14630048  accuracy:  89.350%\n",
            "epoch:  4  batch: 5400 [ 54000/60000]  loss: 0.22478780  accuracy:  89.322%\n",
            "epoch:  4  batch: 6000 [ 60000/60000]  loss: 0.94331044  accuracy:  89.395%\n",
            "\n",
            "Duration: 147 seconds\n"
          ]
        }
      ],
      "source": [
        "# CODE HERE\n",
        "import time\n",
        "start_time = time.time()\n",
        "\n",
        "epochs = 5\n",
        "train_losses = []\n",
        "test_losses = []\n",
        "train_correct = []\n",
        "test_correct = []\n",
        "\n",
        "for i in range(epochs):\n",
        "    trn_corr = 0\n",
        "    tst_corr = 0\n",
        "    \n",
        "    # Run the training batches\n",
        "    for b, (X_train, y_train) in enumerate(train_loader):\n",
        "        b+=1\n",
        "        \n",
        "        # Apply the model\n",
        "        y_pred = model(X_train)  # we don't flatten X-train here\n",
        "        loss = criterion(y_pred, y_train)\n",
        " \n",
        "        # Tally the number of correct predictions\n",
        "        predicted = torch.max(y_pred.data, 1)[1]\n",
        "        batch_corr = (predicted == y_train).sum()\n",
        "        trn_corr += batch_corr\n",
        "        \n",
        "        # Update parameters\n",
        "        optimizer.zero_grad()\n",
        "        loss.backward()\n",
        "        optimizer.step()\n",
        "        \n",
        "        # Print interim results\n",
        "        if b%600 == 0:\n",
        "            print(f'epoch: {i:2}  batch: {b:4} [{10*b:6}/60000]  loss: {loss.item():10.8f}  \\\n",
        "accuracy: {trn_corr.item()*100/(10*b):7.3f}%')\n",
        "        \n",
        "    train_losses.append(loss)\n",
        "    train_correct.append(trn_corr)\n",
        "        \n",
        "    # Run the testing batches\n",
        "    with torch.no_grad():\n",
        "        for b, (X_test, y_test) in enumerate(test_loader):\n",
        "\n",
        "            # Apply the model\n",
        "            y_val = model(X_test)\n",
        "\n",
        "            # Tally the number of correct predictions\n",
        "            predicted = torch.max(y_val.data, 1)[1] \n",
        "            tst_corr += (predicted == y_test).sum()\n",
        "            \n",
        "    loss = criterion(y_val, y_test)\n",
        "    test_losses.append(loss)\n",
        "    test_correct.append(tst_corr)\n",
        "        \n",
        "print(f'\\nDuration: {time.time() - start_time:.0f} seconds') # print the time elapsed \n",
        "\n",
        "\n",
        "\n"
      ]
    },
    {
      "cell_type": "markdown",
      "metadata": {
        "id": "SXeRnR9h1Vf2"
      },
      "source": [
        "### 9. Evaluate the model\n",
        "Set <tt>model.eval()</tt> and determine the percentage correct out of 10,000 total test images."
      ]
    },
    {
      "cell_type": "code",
      "execution_count": 46,
      "metadata": {
        "collapsed": true,
        "colab": {
          "base_uri": "https://localhost:8080/"
        },
        "id": "yUtHcpAa1Vf3",
        "outputId": "48b3ad2f-cbb6-4f7d-c6b1-b93faeda4c87"
      },
      "outputs": [
        {
          "output_type": "stream",
          "name": "stdout",
          "text": [
            "Test accuracy: 8768/10000 =  87.680%\n"
          ]
        }
      ],
      "source": [
        "# CODE HERE\n",
        "\n",
        "test_load_all = DataLoader(test_data, batch_size=10000, shuffle=False)\n",
        "\n",
        "with torch.no_grad():\n",
        "    correct = 0\n",
        "    for X_test, y_test in test_load_all:\n",
        "        y_val = model(X_test)  # we don't flatten the data this time\n",
        "        predicted = torch.max(y_val,1)[1]\n",
        "        correct += (predicted == y_test).sum()\n",
        "print(f'Test accuracy: {correct.item()}/{len(test_data)} = {correct.item()*100/(len(test_data)):7.3f}%')\n",
        "\n",
        "\n"
      ]
    },
    {
      "cell_type": "markdown",
      "metadata": {
        "id": "QafBNXiv1Vf4"
      },
      "source": [
        "## Great job!"
      ]
    }
  ],
  "metadata": {
    "kernelspec": {
      "display_name": "Python 3",
      "language": "python",
      "name": "python3"
    },
    "language_info": {
      "codemirror_mode": {
        "name": "ipython",
        "version": 3
      },
      "file_extension": ".py",
      "mimetype": "text/x-python",
      "name": "python",
      "nbconvert_exporter": "python",
      "pygments_lexer": "ipython3",
      "version": "3.6.6"
    },
    "colab": {
      "provenance": []
    }
  },
  "nbformat": 4,
  "nbformat_minor": 0
}